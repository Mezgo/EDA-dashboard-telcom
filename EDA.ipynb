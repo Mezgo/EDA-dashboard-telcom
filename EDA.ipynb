{
 "cells": [
  {
   "cell_type": "code",
   "execution_count": 1,
   "id": "bdb4d20a-72a9-43a3-aa0f-adce76e00db6",
   "metadata": {
    "tags": []
   },
   "outputs": [],
   "source": [
    "import pandas as pd\n",
    "import numpy as np\n",
    "import matplotlib.pylab as plt\n",
    "import seaborn as sns"
   ]
  },
  {
   "attachments": {},
   "cell_type": "markdown",
   "id": "1523e17b",
   "metadata": {},
   "source": [
    "# Penetracion Internet Fijo"
   ]
  },
  {
   "attachments": {},
   "cell_type": "markdown",
   "id": "7ab9ea9c",
   "metadata": {},
   "source": [
    "KPI -> Aumentar en un 2% el acceso al servicio de internet para el próximo trimestre, cada 100 hogares, por provincia."
   ]
  },
  {
   "cell_type": "code",
   "execution_count": 2,
   "id": "8a98e05a",
   "metadata": {},
   "outputs": [],
   "source": [
    "pe_in = pd.read_csv('https://datosabiertos.enacom.gob.ar/rest/datastreams/275028/data.csv')"
   ]
  },
  {
   "cell_type": "code",
   "execution_count": 3,
   "id": "59ff2080",
   "metadata": {},
   "outputs": [
    {
     "data": {
      "text/html": [
       "<div>\n",
       "<style scoped>\n",
       "    .dataframe tbody tr th:only-of-type {\n",
       "        vertical-align: middle;\n",
       "    }\n",
       "\n",
       "    .dataframe tbody tr th {\n",
       "        vertical-align: top;\n",
       "    }\n",
       "\n",
       "    .dataframe thead th {\n",
       "        text-align: right;\n",
       "    }\n",
       "</style>\n",
       "<table border=\"1\" class=\"dataframe\">\n",
       "  <thead>\n",
       "    <tr style=\"text-align: right;\">\n",
       "      <th></th>\n",
       "      <th>Año</th>\n",
       "      <th>Trimestre</th>\n",
       "      <th>Provincia</th>\n",
       "      <th>Accesos por cada 100 hogares</th>\n",
       "    </tr>\n",
       "  </thead>\n",
       "  <tbody>\n",
       "    <tr>\n",
       "      <th>657</th>\n",
       "      <td>2015</td>\n",
       "      <td>4</td>\n",
       "      <td>Jujuy</td>\n",
       "      <td>21,47</td>\n",
       "    </tr>\n",
       "    <tr>\n",
       "      <th>783</th>\n",
       "      <td>2014</td>\n",
       "      <td>3</td>\n",
       "      <td>Río Negro</td>\n",
       "      <td>46,2</td>\n",
       "    </tr>\n",
       "    <tr>\n",
       "      <th>432</th>\n",
       "      <td>2018</td>\n",
       "      <td>1</td>\n",
       "      <td>Buenos Aires</td>\n",
       "      <td>62,63</td>\n",
       "    </tr>\n",
       "    <tr>\n",
       "      <th>711</th>\n",
       "      <td>2015</td>\n",
       "      <td>2</td>\n",
       "      <td>Río Negro</td>\n",
       "      <td>45,98</td>\n",
       "    </tr>\n",
       "    <tr>\n",
       "      <th>110</th>\n",
       "      <td>2021</td>\n",
       "      <td>3</td>\n",
       "      <td>Neuquén</td>\n",
       "      <td>69,71</td>\n",
       "    </tr>\n",
       "  </tbody>\n",
       "</table>\n",
       "</div>"
      ],
      "text/plain": [
       "      Año  Trimestre     Provincia Accesos por cada 100 hogares\n",
       "657  2015          4         Jujuy                        21,47\n",
       "783  2014          3     Río Negro                         46,2\n",
       "432  2018          1  Buenos Aires                        62,63\n",
       "711  2015          2     Río Negro                        45,98\n",
       "110  2021          3       Neuquén                        69,71"
      ]
     },
     "execution_count": 3,
     "metadata": {},
     "output_type": "execute_result"
    }
   ],
   "source": [
    "pe_in.sample(5)"
   ]
  },
  {
   "cell_type": "code",
   "execution_count": 4,
   "id": "b146d3ce",
   "metadata": {},
   "outputs": [
    {
     "name": "stdout",
     "output_type": "stream",
     "text": [
      "<class 'pandas.core.frame.DataFrame'>\n",
      "RangeIndex: 840 entries, 0 to 839\n",
      "Data columns (total 4 columns):\n",
      " #   Column                        Non-Null Count  Dtype \n",
      "---  ------                        --------------  ----- \n",
      " 0   Año                           840 non-null    int64 \n",
      " 1   Trimestre                     840 non-null    int64 \n",
      " 2   Provincia                     840 non-null    object\n",
      " 3   Accesos por cada 100 hogares  840 non-null    object\n",
      "dtypes: int64(2), object(2)\n",
      "memory usage: 26.4+ KB\n"
     ]
    }
   ],
   "source": [
    "pe_in.info()"
   ]
  },
  {
   "cell_type": "code",
   "execution_count": 5,
   "id": "b4f472f8",
   "metadata": {},
   "outputs": [],
   "source": [
    "pe_in_copy = pe_in.copy()"
   ]
  },
  {
   "cell_type": "code",
   "execution_count": 6,
   "id": "ef06f21e",
   "metadata": {},
   "outputs": [
    {
     "data": {
      "text/plain": [
       "0       78.11\n",
       "1      122.28\n",
       "2       65.33\n",
       "3       43.86\n",
       "4       84.38\n",
       "        ...  \n",
       "835     28.94\n",
       "836     47.85\n",
       "837     16.31\n",
       "838     63.97\n",
       "839     33.42\n",
       "Name: Accesos por cada 100 hogares, Length: 840, dtype: float64"
      ]
     },
     "execution_count": 6,
     "metadata": {},
     "output_type": "execute_result"
    }
   ],
   "source": [
    "pe_in_copy['Accesos por cada 100 hogares'] = pe_in_copy['Accesos por cada 100 hogares'].str.replace(',', '.').astype(float)\n",
    "pe_in_copy['Accesos por cada 100 hogares']"
   ]
  },
  {
   "cell_type": "code",
   "execution_count": 7,
   "id": "dd84db4f",
   "metadata": {},
   "outputs": [
    {
     "data": {
      "text/html": [
       "<div>\n",
       "<style scoped>\n",
       "    .dataframe tbody tr th:only-of-type {\n",
       "        vertical-align: middle;\n",
       "    }\n",
       "\n",
       "    .dataframe tbody tr th {\n",
       "        vertical-align: top;\n",
       "    }\n",
       "\n",
       "    .dataframe thead th {\n",
       "        text-align: right;\n",
       "    }\n",
       "</style>\n",
       "<table border=\"1\" class=\"dataframe\">\n",
       "  <thead>\n",
       "    <tr style=\"text-align: right;\">\n",
       "      <th></th>\n",
       "      <th>Año</th>\n",
       "      <th>Trimestre</th>\n",
       "      <th>Accesos por cada 100 hogares</th>\n",
       "    </tr>\n",
       "  </thead>\n",
       "  <tbody>\n",
       "    <tr>\n",
       "      <th>count</th>\n",
       "      <td>840.000000</td>\n",
       "      <td>840.000000</td>\n",
       "      <td>840.000000</td>\n",
       "    </tr>\n",
       "    <tr>\n",
       "      <th>mean</th>\n",
       "      <td>2017.885714</td>\n",
       "      <td>2.457143</td>\n",
       "      <td>49.065750</td>\n",
       "    </tr>\n",
       "    <tr>\n",
       "      <th>std</th>\n",
       "      <td>2.528745</td>\n",
       "      <td>1.105009</td>\n",
       "      <td>23.151885</td>\n",
       "    </tr>\n",
       "    <tr>\n",
       "      <th>min</th>\n",
       "      <td>2014.000000</td>\n",
       "      <td>1.000000</td>\n",
       "      <td>9.350000</td>\n",
       "    </tr>\n",
       "    <tr>\n",
       "      <th>25%</th>\n",
       "      <td>2016.000000</td>\n",
       "      <td>1.000000</td>\n",
       "      <td>32.107500</td>\n",
       "    </tr>\n",
       "    <tr>\n",
       "      <th>50%</th>\n",
       "      <td>2018.000000</td>\n",
       "      <td>2.000000</td>\n",
       "      <td>45.900000</td>\n",
       "    </tr>\n",
       "    <tr>\n",
       "      <th>75%</th>\n",
       "      <td>2020.000000</td>\n",
       "      <td>3.000000</td>\n",
       "      <td>61.865000</td>\n",
       "    </tr>\n",
       "    <tr>\n",
       "      <th>max</th>\n",
       "      <td>2022.000000</td>\n",
       "      <td>4.000000</td>\n",
       "      <td>124.060000</td>\n",
       "    </tr>\n",
       "  </tbody>\n",
       "</table>\n",
       "</div>"
      ],
      "text/plain": [
       "               Año   Trimestre  Accesos por cada 100 hogares\n",
       "count   840.000000  840.000000                    840.000000\n",
       "mean   2017.885714    2.457143                     49.065750\n",
       "std       2.528745    1.105009                     23.151885\n",
       "min    2014.000000    1.000000                      9.350000\n",
       "25%    2016.000000    1.000000                     32.107500\n",
       "50%    2018.000000    2.000000                     45.900000\n",
       "75%    2020.000000    3.000000                     61.865000\n",
       "max    2022.000000    4.000000                    124.060000"
      ]
     },
     "execution_count": 7,
     "metadata": {},
     "output_type": "execute_result"
    }
   ],
   "source": [
    "pe_in_copy.describe()"
   ]
  },
  {
   "cell_type": "code",
   "execution_count": 8,
   "metadata": {},
   "outputs": [
    {
     "data": {
      "text/html": [
       "<div>\n",
       "<style scoped>\n",
       "    .dataframe tbody tr th:only-of-type {\n",
       "        vertical-align: middle;\n",
       "    }\n",
       "\n",
       "    .dataframe tbody tr th {\n",
       "        vertical-align: top;\n",
       "    }\n",
       "\n",
       "    .dataframe thead th {\n",
       "        text-align: right;\n",
       "    }\n",
       "</style>\n",
       "<table border=\"1\" class=\"dataframe\">\n",
       "  <thead>\n",
       "    <tr style=\"text-align: right;\">\n",
       "      <th></th>\n",
       "      <th>Año</th>\n",
       "      <th>Trimestre</th>\n",
       "      <th>Provincia</th>\n",
       "      <th>Accesos por cada 100 hogares</th>\n",
       "    </tr>\n",
       "  </thead>\n",
       "  <tbody>\n",
       "    <tr>\n",
       "      <th>69</th>\n",
       "      <td>2022</td>\n",
       "      <td>1</td>\n",
       "      <td>Santiago Del Estero</td>\n",
       "      <td>47.17</td>\n",
       "    </tr>\n",
       "    <tr>\n",
       "      <th>45</th>\n",
       "      <td>2022</td>\n",
       "      <td>2</td>\n",
       "      <td>Santiago Del Estero</td>\n",
       "      <td>47.70</td>\n",
       "    </tr>\n",
       "    <tr>\n",
       "      <th>21</th>\n",
       "      <td>2022</td>\n",
       "      <td>3</td>\n",
       "      <td>Santiago Del Estero</td>\n",
       "      <td>47.98</td>\n",
       "    </tr>\n",
       "  </tbody>\n",
       "</table>\n",
       "</div>"
      ],
      "text/plain": [
       "     Año  Trimestre            Provincia  Accesos por cada 100 hogares\n",
       "69  2022          1  Santiago Del Estero                         47.17\n",
       "45  2022          2  Santiago Del Estero                         47.70\n",
       "21  2022          3  Santiago Del Estero                         47.98"
      ]
     },
     "execution_count": 8,
     "metadata": {},
     "output_type": "execute_result"
    }
   ],
   "source": [
    "provincia = 'Santiago del estero'\n",
    "year = 2022\n",
    "\n",
    "pe_in_copy = pe_in_copy[pe_in_copy.Provincia.str.lower() == provincia.lower()]\n",
    "pe_in_copy = pe_in_copy[pe_in_copy['Año'] == year]\n",
    "pe_in_copy.sort_values('Trimestre', ascending=True, inplace=True)\n",
    "pe_in_copy"
   ]
  },
  {
   "cell_type": "code",
   "execution_count": 10,
   "id": "a455ce8a",
   "metadata": {},
   "outputs": [
    {
     "name": "stdout",
     "output_type": "stream",
     "text": [
      "Porcentajes de aumento entre cuartiles: [1.1235955056179798, 0.5870020964360462]\n",
      "Promedio de aumento: 0.8552988010270131\n",
      "Se requieren 3 nuevas conexiones para lograr un aumento de 2% el siguiente trimestre\n"
     ]
    },
    {
     "data": {
      "image/png": "[encoded data removed]",
      "text/plain": [
       "<Figure size 500x500 with 1 Axes>"
      ]
     },
     "metadata": {},
     "output_type": "display_data"
    }
   ],
   "source": [
    "sns.relplot(data = pe_in_copy,\n",
    "           x = pe_in_copy['Trimestre'],\n",
    "           y = pe_in_copy['Accesos por cada 100 hogares'],\n",
    "           kind = 'line',\taspect= 1).set(title = f'Accesos a internet en {provincia.title()}, {year}', ylabel = 'Accesos')\n",
    "\n",
    "valores = pe_in_copy['Accesos por cada 100 hogares'].values\n",
    "\n",
    "aumento_accesos = []\n",
    "\n",
    "for i in range(len(valores) - 1):\n",
    "    porcentaje = ((valores[i+1] - valores[i]) / valores[i]) * 100\n",
    "    aumento_accesos.append(porcentaje)\n",
    "    \n",
    "promedio = sum(aumento_accesos) / len(aumento_accesos)\n",
    "KPI1 = 2\n",
    "meta1 = (sum(valores) * KPI1) / 100\n",
    "\n",
    "print(f'Porcentajes de aumento entre cuartiles: {aumento_accesos}')\n",
    "print(f'Promedio de aumento: {promedio}')\n",
    "print(f'Se requieren {round(meta1)} nuevas conexiones para lograr un aumento de {KPI1}% el siguiente trimestre')"
   ]
  },
  {
   "cell_type": "code",
   "execution_count": 11,
   "id": "eb13d35a",
   "metadata": {},
   "outputs": [
    {
     "name": "stdout",
     "output_type": "stream",
     "text": [
      "porcentajes de aumento: [2.3911710606989613, -1.2574850299401248, 4.730139478471808]\n",
      "promedio de aumento: 1.9546085030768816\n"
     ]
    }
   ],
   "source": []
  },
  {
   "attachments": {},
   "cell_type": "markdown",
   "id": "31fa977f-44cd-42ce-bb45-5705c45ff26a",
   "metadata": {},
   "source": [
    "# ANALIZANDO ACCESOS A INTERNET POR  TECNOLOGIA Y LOCALIDAD"
   ]
  },
  {
   "cell_type": "code",
   "execution_count": 6,
   "id": "2b7e028d-673b-4493-b59b-6d03455826a1",
   "metadata": {
    "tags": []
   },
   "outputs": [],
   "source": [
    "ac_te_lo = pd.read_csv('data/Accesos_a_Internet_fijo_por_tecnologia_y_localidad.csv')"
   ]
  },
  {
   "attachments": {},
   "cell_type": "markdown",
   "id": "054300b0",
   "metadata": {},
   "source": [
    "### analizar composicion"
   ]
  },
  {
   "cell_type": "code",
   "execution_count": 7,
   "id": "e2f2b97d-59bf-4418-8202-4de328731be8",
   "metadata": {
    "tags": []
   },
   "outputs": [
    {
     "name": "stdout",
     "output_type": "stream",
     "text": [
      "<class 'pandas.core.frame.DataFrame'>\n",
      "RangeIndex: 3142 entries, 0 to 3141\n",
      "Data columns (total 14 columns):\n",
      " #   Column         Non-Null Count  Dtype  \n",
      "---  ------         --------------  -----  \n",
      " 0   Provincia      3142 non-null   object \n",
      " 1   Partido        3142 non-null   object \n",
      " 2   Localidad      3142 non-null   object \n",
      " 3   Link Indec     3142 non-null   object \n",
      " 4   ADSL           3142 non-null   object \n",
      " 5   CABLEMODEM     3142 non-null   object \n",
      " 6   DIAL UP        3142 non-null   object \n",
      " 7   FIBRA OPTICA   3142 non-null   object \n",
      " 8   OTROS          3142 non-null   object \n",
      " 9   SATELITAL      3142 non-null   object \n",
      " 10  WIMAX          3142 non-null   object \n",
      " 11  WIRELESS       3142 non-null   object \n",
      " 12  Total general  3142 non-null   object \n",
      " 13  Unnamed: 13    0 non-null      float64\n",
      "dtypes: float64(1), object(13)\n",
      "memory usage: 343.8+ KB\n"
     ]
    }
   ],
   "source": [
    "ac_te_lo.info()"
   ]
  },
  {
   "cell_type": "code",
   "execution_count": 8,
   "id": "91d26172-0fcc-493b-a053-c29ea7680f2e",
   "metadata": {},
   "outputs": [
    {
     "data": {
      "text/html": [
       "<div>\n",
       "<style scoped>\n",
       "    .dataframe tbody tr th:only-of-type {\n",
       "        vertical-align: middle;\n",
       "    }\n",
       "\n",
       "    .dataframe tbody tr th {\n",
       "        vertical-align: top;\n",
       "    }\n",
       "\n",
       "    .dataframe thead th {\n",
       "        text-align: right;\n",
       "    }\n",
       "</style>\n",
       "<table border=\"1\" class=\"dataframe\">\n",
       "  <thead>\n",
       "    <tr style=\"text-align: right;\">\n",
       "      <th></th>\n",
       "      <th>Provincia</th>\n",
       "      <th>Partido</th>\n",
       "      <th>Localidad</th>\n",
       "      <th>Link Indec</th>\n",
       "      <th>ADSL</th>\n",
       "      <th>CABLEMODEM</th>\n",
       "      <th>DIAL UP</th>\n",
       "      <th>FIBRA OPTICA</th>\n",
       "      <th>OTROS</th>\n",
       "      <th>SATELITAL</th>\n",
       "      <th>WIMAX</th>\n",
       "      <th>WIRELESS</th>\n",
       "      <th>Total general</th>\n",
       "      <th>Unnamed: 13</th>\n",
       "    </tr>\n",
       "  </thead>\n",
       "  <tbody>\n",
       "    <tr>\n",
       "      <th>2159</th>\n",
       "      <td>RIO NEGRO</td>\n",
       "      <td>Adolfo Alsina</td>\n",
       "      <td>San Javier</td>\n",
       "      <td>62007080</td>\n",
       "      <td>- 0</td>\n",
       "      <td>- 0</td>\n",
       "      <td>- 0</td>\n",
       "      <td>- 0</td>\n",
       "      <td>- 0</td>\n",
       "      <td>1</td>\n",
       "      <td>- 0</td>\n",
       "      <td>211</td>\n",
       "      <td>212</td>\n",
       "      <td>NaN</td>\n",
       "    </tr>\n",
       "    <tr>\n",
       "      <th>851</th>\n",
       "      <td>CHACO</td>\n",
       "      <td>San Fernando</td>\n",
       "      <td>Basail</td>\n",
       "      <td>22140020</td>\n",
       "      <td>98</td>\n",
       "      <td>67</td>\n",
       "      <td>- 0</td>\n",
       "      <td>- 0</td>\n",
       "      <td>- 0</td>\n",
       "      <td>1</td>\n",
       "      <td>- 0</td>\n",
       "      <td>57</td>\n",
       "      <td>223</td>\n",
       "      <td>NaN</td>\n",
       "    </tr>\n",
       "    <tr>\n",
       "      <th>1720</th>\n",
       "      <td>LA PAMPA</td>\n",
       "      <td>Guatraché</td>\n",
       "      <td>Alpachiri</td>\n",
       "      <td>42070010</td>\n",
       "      <td>- 0</td>\n",
       "      <td>- 0</td>\n",
       "      <td>- 0</td>\n",
       "      <td>2</td>\n",
       "      <td>- 0</td>\n",
       "      <td>1</td>\n",
       "      <td>- 0</td>\n",
       "      <td>- 0</td>\n",
       "      <td>3</td>\n",
       "      <td>NaN</td>\n",
       "    </tr>\n",
       "    <tr>\n",
       "      <th>1993</th>\n",
       "      <td>MENDOZA</td>\n",
       "      <td>Tupungato</td>\n",
       "      <td>La Arboleda</td>\n",
       "      <td>50126040</td>\n",
       "      <td>- 0</td>\n",
       "      <td>- 0</td>\n",
       "      <td>- 0</td>\n",
       "      <td>- 0</td>\n",
       "      <td>- 0</td>\n",
       "      <td>- 0</td>\n",
       "      <td>- 0</td>\n",
       "      <td>45</td>\n",
       "      <td>45</td>\n",
       "      <td>NaN</td>\n",
       "    </tr>\n",
       "    <tr>\n",
       "      <th>1693</th>\n",
       "      <td>LA PAMPA</td>\n",
       "      <td>Atreucó</td>\n",
       "      <td>Macachín</td>\n",
       "      <td>42007020</td>\n",
       "      <td>- 0</td>\n",
       "      <td>- 0</td>\n",
       "      <td>- 0</td>\n",
       "      <td>301</td>\n",
       "      <td>- 0</td>\n",
       "      <td>1</td>\n",
       "      <td>- 0</td>\n",
       "      <td>1.004</td>\n",
       "      <td>1.306</td>\n",
       "      <td>NaN</td>\n",
       "    </tr>\n",
       "  </tbody>\n",
       "</table>\n",
       "</div>"
      ],
      "text/plain": [
       "      Provincia        Partido    Localidad Link Indec ADSL CABLEMODEM   \n",
       "2159  RIO NEGRO  Adolfo Alsina   San Javier   62007080  - 0        - 0  \\\n",
       "851       CHACO   San Fernando       Basail   22140020   98         67   \n",
       "1720   LA PAMPA      Guatraché    Alpachiri   42070010  - 0        - 0   \n",
       "1993    MENDOZA      Tupungato  La Arboleda   50126040  - 0        - 0   \n",
       "1693   LA PAMPA        Atreucó     Macachín   42007020  - 0        - 0   \n",
       "\n",
       "     DIAL UP FIBRA OPTICA OTROS SATELITAL WIMAX WIRELESS Total general   \n",
       "2159     - 0          - 0   - 0         1   - 0      211           212  \\\n",
       "851      - 0          - 0   - 0         1   - 0       57           223   \n",
       "1720     - 0            2   - 0         1   - 0      - 0             3   \n",
       "1993     - 0          - 0   - 0       - 0   - 0       45            45   \n",
       "1693     - 0          301   - 0         1   - 0    1.004         1.306   \n",
       "\n",
       "      Unnamed: 13  \n",
       "2159          NaN  \n",
       "851           NaN  \n",
       "1720          NaN  \n",
       "1993          NaN  \n",
       "1693          NaN  "
      ]
     },
     "execution_count": 8,
     "metadata": {},
     "output_type": "execute_result"
    }
   ],
   "source": [
    "ac_te_lo.sample(5)"
   ]
  },
  {
   "attachments": {},
   "cell_type": "markdown",
   "id": "741d7a98-64da-41d5-a1ed-3ac263835d34",
   "metadata": {},
   "source": [
    "### Analizar datos"
   ]
  },
  {
   "attachments": {},
   "cell_type": "markdown",
   "id": "d287d2a1",
   "metadata": {},
   "source": [
    "#### Provincia"
   ]
  },
  {
   "cell_type": "code",
   "execution_count": 9,
   "id": "bd9539c4-0306-476e-82b1-433e0e73b90a",
   "metadata": {
    "tags": []
   },
   "outputs": [
    {
     "data": {
      "text/plain": [
       "1159         CORDOBA\n",
       "2404        SAN JUAN\n",
       "2577      SANTA CRUZ\n",
       "304     BUENOS AIRES\n",
       "1764        LA PAMPA\n",
       "Name: Provincia, dtype: object"
      ]
     },
     "execution_count": 9,
     "metadata": {},
     "output_type": "execute_result"
    }
   ],
   "source": [
    "ac_te_lo['Provincia'].sample(5)"
   ]
  },
  {
   "cell_type": "code",
   "execution_count": 17,
   "id": "a9a05050",
   "metadata": {},
   "outputs": [
    {
     "data": {
      "text/plain": [
       "Provincia\n",
       "BUENOS AIRES           716\n",
       "CORDOBA                394\n",
       "SANTA FE               354\n",
       "ENTRE RIOS             150\n",
       "MENDOZA                145\n",
       "SANTIAGO DEL ESTERO    130\n",
       "SALTA                  123\n",
       "RIO NEGRO              119\n",
       "SAN LUIS                97\n",
       "JUJUY                   95\n",
       "MISIONES                95\n",
       "LA PAMPA                82\n",
       "SAN JUAN                80\n",
       "LA RIOJA                75\n",
       "CHACO                   74\n",
       "CATAMARCA               72\n",
       "TUCUMAN                 68\n",
       "CORRIENTES              65\n",
       "CHUBUT                  63\n",
       "FORMOSA                 62\n",
       "NEUQUEN                 53\n",
       "SANTA CRUZ              22\n",
       "TIERRA DEL FUEGO         7\n",
       "CABA                     1\n",
       "Name: count, dtype: int64"
      ]
     },
     "execution_count": 17,
     "metadata": {},
     "output_type": "execute_result"
    }
   ],
   "source": [
    "ac_te_lo['Provincia'].value_counts()"
   ]
  },
  {
   "cell_type": "code",
   "execution_count": 15,
   "id": "70de356d",
   "metadata": {},
   "outputs": [
    {
     "data": {
      "image/png": "[encoded data removed]",
      "text/plain": [
       "<Figure size 1200x600 with 1 Axes>"
      ]
     },
     "metadata": {},
     "output_type": "display_data"
    }
   ],
   "source": [
    "total = len(ac_te_lo['Provincia'])\n",
    "provincia = ac_te_lo['Provincia']\n",
    "plot = (100 * provincia.value_counts()/total).plot(kind='barh',\n",
    "                                                   title = 'Distribucion de provincias(%)',\n",
    "                                                   figsize=(12,6),\n",
    "                                                   facecolor='forestgreen',\n",
    "                                                   edgecolor='black')"
   ]
  },
  {
   "attachments": {},
   "cell_type": "markdown",
   "id": "36f1e305",
   "metadata": {},
   "source": [
    "#### Partido"
   ]
  },
  {
   "cell_type": "code",
   "execution_count": 35,
   "id": "c0b0bb52",
   "metadata": {},
   "outputs": [
    {
     "data": {
      "text/plain": [
       "1073                         Pocho\n",
       "1091                       Punilla\n",
       "33                 Almirante Brown\n",
       "2923                          Vera\n",
       "2045    Libertador Grl. San Martín\n",
       "3067                    Río Grande\n",
       "1398                     Concordia\n",
       "329                       La Costa\n",
       "1782                 Castro Barros\n",
       "744                        Capayán\n",
       "Name: Partido, dtype: object"
      ]
     },
     "execution_count": 35,
     "metadata": {},
     "output_type": "execute_result"
    }
   ],
   "source": [
    "ac_te_lo['Partido'].sample(10)"
   ]
  },
  {
   "cell_type": "code",
   "execution_count": 57,
   "id": "5384a876",
   "metadata": {},
   "outputs": [
    {
     "data": {
      "image/png": "[encoded data removed]",
      "text/plain": [
       "<Figure size 1200x600 with 1 Axes>"
      ]
     },
     "metadata": {},
     "output_type": "display_data"
    }
   ],
   "source": [
    "prov = 'catamarca'\n",
    "temp = ac_te_lo[ac_te_lo['Provincia'] == prov.upper()]\n",
    "\n",
    "plot = (100 * temp['Partido'].value_counts()/len(temp)).plot(kind='barh',\n",
    "                                    title=f'Distribucion por partido de la provincia {prov.capitalize()} (%)',\n",
    "                                    figsize=(12,6),\n",
    "                                    facecolor='forestgreen',\n",
    "                                    edgecolor='black')"
   ]
  },
  {
   "attachments": {},
   "cell_type": "markdown",
   "id": "d7c15bc3",
   "metadata": {},
   "source": [
    "#### Localidad"
   ]
  },
  {
   "cell_type": "code",
   "execution_count": 22,
   "id": "989666a3",
   "metadata": {},
   "outputs": [
    {
     "data": {
      "text/plain": [
       "3129        Amaicha del Valle\n",
       "3065                   Árraga\n",
       "397                   Bayauca\n",
       "1190                   La Paz\n",
       "942             Villa Amancay\n",
       "1796                 Guanchín\n",
       "1011                   Chazón\n",
       "351              Arturo Segui\n",
       "2973    Vuelta de la Barranca\n",
       "2749          Llambi Campbell\n",
       "Name: Localidad, dtype: object"
      ]
     },
     "execution_count": 22,
     "metadata": {},
     "output_type": "execute_result"
    }
   ],
   "source": [
    "ac_te_lo['Localidad'].sample(10)"
   ]
  },
  {
   "attachments": {},
   "cell_type": "markdown",
   "id": "b8169024",
   "metadata": {},
   "source": [
    "#### Link Indec"
   ]
  },
  {
   "cell_type": "code",
   "execution_count": 23,
   "id": "aa2c3762",
   "metadata": {},
   "outputs": [
    {
     "data": {
      "text/plain": [
       "1921    50070060\n",
       "1003    14035050\n",
       "1809    46049020\n",
       "904     26063020\n",
       "1804    46028050\n",
       "94       6112010\n",
       "2810    82084300\n",
       "1629    38042040\n",
       "2401    70021020\n",
       "2510    74042010\n",
       "Name: Link Indec, dtype: object"
      ]
     },
     "execution_count": 23,
     "metadata": {},
     "output_type": "execute_result"
    }
   ],
   "source": [
    "ac_te_lo['Link Indec'].sample(10)"
   ]
  },
  {
   "cell_type": "code",
   "execution_count": 65,
   "id": "c64532b1",
   "metadata": {},
   "outputs": [
    {
     "data": {
      "text/plain": [
       "Link Indec\n",
       "Sin Datos    72\n",
       "6441030      27\n",
       "6371010      27\n",
       "6840010      15\n",
       "6427010      15\n",
       "             ..\n",
       "14140420      1\n",
       "14140440      1\n",
       "14140390      1\n",
       "14140150      1\n",
       "90119030      1\n",
       "Name: count, Length: 2718, dtype: int64"
      ]
     },
     "execution_count": 65,
     "metadata": {},
     "output_type": "execute_result"
    }
   ],
   "source": [
    "ac_te_lo['Link Indec'].value_counts()"
   ]
  },
  {
   "cell_type": "code",
   "execution_count": null,
   "id": "b0883087",
   "metadata": {},
   "outputs": [],
   "source": [
    "ac_te_lo['Link Indec'].replace('Sin Datos', \"-1\")\n",
    "\n",
    "# ac_te_lo['Link Indec'] = ac_te_lo['Link Indec'].astype(int)"
   ]
  },
  {
   "cell_type": "code",
   "execution_count": 24,
   "id": "dd3dc85f",
   "metadata": {},
   "outputs": [
    {
     "data": {
      "text/plain": [
       "1671      - 0\n",
       "3140    1.725\n",
       "2616      - 0\n",
       "2242      383\n",
       "1171      - 0\n",
       "479       205\n",
       "1711      - 0\n",
       "880       - 0\n",
       "2979      - 0\n",
       "2315      996\n",
       "Name: ADSL, dtype: object"
      ]
     },
     "execution_count": 24,
     "metadata": {},
     "output_type": "execute_result"
    }
   ],
   "source": [
    "ac_te_lo['ADSL'].sample(10)"
   ]
  },
  {
   "cell_type": "code",
   "execution_count": 25,
   "id": "d199b76c",
   "metadata": {},
   "outputs": [
    {
     "data": {
      "text/plain": [
       "224        152\n",
       "2705       - 0\n",
       "2443       - 0\n",
       "469        - 0\n",
       "440        - 0\n",
       "1136       - 0\n",
       "381     10.751\n",
       "3007       - 0\n",
       "2956       - 0\n",
       "326         61\n",
       "Name: CABLEMODEM, dtype: object"
      ]
     },
     "execution_count": 25,
     "metadata": {},
     "output_type": "execute_result"
    }
   ],
   "source": [
    "ac_te_lo['CABLEMODEM'].sample(10)"
   ]
  },
  {
   "cell_type": "code",
   "execution_count": 46,
   "id": "3cbfdd68",
   "metadata": {},
   "outputs": [
    {
     "data": {
      "text/plain": [
       "634     - 0\n",
       "2531    - 0\n",
       "2114      2\n",
       "53        2\n",
       "430       4\n",
       "731     - 0\n",
       "1844    - 0\n",
       "1170    - 0\n",
       "617     - 0\n",
       "2960    - 0\n",
       "Name: DIAL UP, dtype: object"
      ]
     },
     "execution_count": 46,
     "metadata": {},
     "output_type": "execute_result"
    }
   ],
   "source": [
    "ac_te_lo['DIAL UP'].sample(10)"
   ]
  },
  {
   "cell_type": "code",
   "execution_count": 50,
   "id": "53657be9",
   "metadata": {},
   "outputs": [
    {
     "data": {
      "text/plain": [
       "2919     27\n",
       "2720    - 0\n",
       "2493    - 0\n",
       "916     - 0\n",
       "1681    - 0\n",
       "2490      3\n",
       "545     197\n",
       "2273      5\n",
       "2984    243\n",
       "594      25\n",
       "Name: FIBRA OPTICA, dtype: object"
      ]
     },
     "execution_count": 50,
     "metadata": {},
     "output_type": "execute_result"
    }
   ],
   "source": [
    "ac_te_lo['FIBRA OPTICA'].sample(10)"
   ]
  },
  {
   "cell_type": "code",
   "execution_count": 55,
   "id": "dd2d2202",
   "metadata": {},
   "outputs": [
    {
     "data": {
      "text/plain": [
       "2162    - 0\n",
       "2377     50\n",
       "2204    - 0\n",
       "129     - 0\n",
       "2532    - 0\n",
       "2408    - 0\n",
       "770     - 0\n",
       "1515    - 0\n",
       "1535    - 0\n",
       "567      40\n",
       "Name: OTROS, dtype: object"
      ]
     },
     "execution_count": 55,
     "metadata": {},
     "output_type": "execute_result"
    }
   ],
   "source": [
    "ac_te_lo['OTROS'].sample(10)"
   ]
  },
  {
   "cell_type": "code",
   "execution_count": 62,
   "id": "38e91b59",
   "metadata": {},
   "outputs": [
    {
     "data": {
      "text/plain": [
       "3113    - 0\n",
       "280     - 0\n",
       "2209    - 0\n",
       "2602    - 0\n",
       "2115      5\n",
       "1408    - 0\n",
       "2291    - 0\n",
       "1359      1\n",
       "1563      1\n",
       "2911    - 0\n",
       "Name: SATELITAL, dtype: object"
      ]
     },
     "execution_count": 62,
     "metadata": {},
     "output_type": "execute_result"
    }
   ],
   "source": [
    "ac_te_lo['SATELITAL'].sample(10)"
   ]
  },
  {
   "cell_type": "code",
   "execution_count": 72,
   "id": "cda28a0d",
   "metadata": {},
   "outputs": [
    {
     "data": {
      "text/plain": [
       "649     - 0\n",
       "2163    - 0\n",
       "306     - 0\n",
       "2030    - 0\n",
       "1701    - 0\n",
       "1510    - 0\n",
       "1478    - 0\n",
       "1939    - 0\n",
       "3139    - 0\n",
       "279     - 0\n",
       "Name: WIMAX, dtype: object"
      ]
     },
     "execution_count": 72,
     "metadata": {},
     "output_type": "execute_result"
    }
   ],
   "source": [
    "ac_te_lo['WIMAX'].sample(10)"
   ]
  },
  {
   "cell_type": "code",
   "execution_count": 73,
   "id": "32402ad4",
   "metadata": {},
   "outputs": [
    {
     "data": {
      "text/plain": [
       "940     3.079\n",
       "2100      590\n",
       "2526       64\n",
       "682       - 0\n",
       "2638    1.497\n",
       "1197       64\n",
       "1180       20\n",
       "1066       35\n",
       "2844      453\n",
       "2811       25\n",
       "Name: WIRELESS, dtype: object"
      ]
     },
     "execution_count": 73,
     "metadata": {},
     "output_type": "execute_result"
    }
   ],
   "source": [
    "ac_te_lo['WIRELESS'].sample(10)"
   ]
  },
  {
   "cell_type": "code",
   "execution_count": 32,
   "id": "0159ebe5",
   "metadata": {},
   "outputs": [
    {
     "data": {
      "text/plain": [
       "1915       468\n",
       "1985        21\n",
       "3119        26\n",
       "2900       994\n",
       "2650         1\n",
       "422      1.059\n",
       "8       14.605\n",
       "1246    16.126\n",
       "2832        37\n",
       "2242       517\n",
       "Name: Total general, dtype: object"
      ]
     },
     "execution_count": 32,
     "metadata": {},
     "output_type": "execute_result"
    }
   ],
   "source": [
    "ac_te_lo['Total general'].sample(10)"
   ]
  },
  {
   "cell_type": "code",
   "execution_count": 78,
   "id": "5d3bd945",
   "metadata": {},
   "outputs": [
    {
     "data": {
      "text/plain": [
       "Provincia          24\n",
       "Partido           432\n",
       "Localidad        2850\n",
       "Link Indec       2718\n",
       "ADSL              724\n",
       "CABLEMODEM        693\n",
       "DIAL UP            86\n",
       "FIBRA OPTICA      706\n",
       "OTROS             219\n",
       "SATELITAL          24\n",
       "WIMAX              12\n",
       "WIRELESS          606\n",
       "Total general    1348\n",
       "Unnamed: 13         0\n",
       "dtype: int64"
      ]
     },
     "execution_count": 78,
     "metadata": {},
     "output_type": "execute_result"
    }
   ],
   "source": [
    "ac_te_lo.nunique(axis=0)"
   ]
  }
 ],
 "metadata": {
  "kernelspec": {
   "display_name": "Python 3 (ipykernel)",
   "language": "python",
   "name": "python3"
  },
  "language_info": {
   "codemirror_mode": {
    "name": "ipython",
    "version": 3
   },
   "file_extension": ".py",
   "mimetype": "text/x-python",
   "name": "python",
   "nbconvert_exporter": "python",
   "pygments_lexer": "ipython3",
   "version": "3.10.6"
  }
 },
 "nbformat": 4,
 "nbformat_minor": 5
}
