{
 "cells": [
  {
   "cell_type": "code",
   "execution_count": 2,
   "id": "bdb4d20a-72a9-43a3-aa0f-adce76e00db6",
   "metadata": {
    "tags": []
   },
   "outputs": [],
   "source": [
    "import pandas as pd\n",
    "import numpy as np\n",
    "import matplotlib.pylab as plt\n",
    "import seaborn as sns"
   ]
  },
  {
   "cell_type": "code",
   "execution_count": 3,
   "id": "2b7e028d-673b-4493-b59b-6d03455826a1",
   "metadata": {
    "tags": []
   },
   "outputs": [],
   "source": [
    "acc_fijo_tec_loc = pd.read_csv('data/Accesos_a_Internet_fijo_por_tecnologia_y_localidad.csv')"
   ]
  },
  {
   "cell_type": "markdown",
   "id": "31fa977f-44cd-42ce-bb45-5705c45ff26a",
   "metadata": {},
   "source": [
    "## ANALIZANDO ACCESOS A INTERNET POR  TECNOLOGIA Y LOCALIDAD"
   ]
  },
  {
   "attachments": {},
   "cell_type": "markdown",
   "id": "054300b0",
   "metadata": {},
   "source": [
    "### analizar composicion"
   ]
  },
  {
   "cell_type": "code",
   "execution_count": 4,
   "id": "e2f2b97d-59bf-4418-8202-4de328731be8",
   "metadata": {
    "tags": []
   },
   "outputs": [],
   "source": [
    "cols = acc_fijo_tec_loc.columns\n",
    "shape = acc_fijo_tec_loc.shape"
   ]
  },
  {
   "cell_type": "code",
   "execution_count": 77,
   "id": "91d26172-0fcc-493b-a053-c29ea7680f2e",
   "metadata": {},
   "outputs": [
    {
     "data": {
      "text/html": [
       "<div>\n",
       "<style scoped>\n",
       "    .dataframe tbody tr th:only-of-type {\n",
       "        vertical-align: middle;\n",
       "    }\n",
       "\n",
       "    .dataframe tbody tr th {\n",
       "        vertical-align: top;\n",
       "    }\n",
       "\n",
       "    .dataframe thead th {\n",
       "        text-align: right;\n",
       "    }\n",
       "</style>\n",
       "<table border=\"1\" class=\"dataframe\">\n",
       "  <thead>\n",
       "    <tr style=\"text-align: right;\">\n",
       "      <th></th>\n",
       "      <th>Provincia</th>\n",
       "      <th>Partido</th>\n",
       "      <th>Localidad</th>\n",
       "      <th>Link Indec</th>\n",
       "      <th>ADSL</th>\n",
       "      <th>CABLEMODEM</th>\n",
       "      <th>DIAL UP</th>\n",
       "      <th>FIBRA OPTICA</th>\n",
       "      <th>OTROS</th>\n",
       "      <th>SATELITAL</th>\n",
       "      <th>WIMAX</th>\n",
       "      <th>WIRELESS</th>\n",
       "      <th>Total general</th>\n",
       "      <th>Unnamed: 13</th>\n",
       "    </tr>\n",
       "  </thead>\n",
       "  <tbody>\n",
       "    <tr>\n",
       "      <th>951</th>\n",
       "      <td>CORDOBA</td>\n",
       "      <td>Calamuchita</td>\n",
       "      <td>Villa Yacanto</td>\n",
       "      <td>14007360</td>\n",
       "      <td>- 0</td>\n",
       "      <td>- 0</td>\n",
       "      <td>- 0</td>\n",
       "      <td>- 0</td>\n",
       "      <td>- 0</td>\n",
       "      <td>- 0</td>\n",
       "      <td>- 0</td>\n",
       "      <td>7</td>\n",
       "      <td>7</td>\n",
       "      <td>NaN</td>\n",
       "    </tr>\n",
       "    <tr>\n",
       "      <th>1436</th>\n",
       "      <td>ENTRE RIOS</td>\n",
       "      <td>Federación</td>\n",
       "      <td>San Ramón</td>\n",
       "      <td>30028105</td>\n",
       "      <td>- 0</td>\n",
       "      <td>- 0</td>\n",
       "      <td>- 0</td>\n",
       "      <td>- 0</td>\n",
       "      <td>- 0</td>\n",
       "      <td>- 0</td>\n",
       "      <td>- 0</td>\n",
       "      <td>39</td>\n",
       "      <td>39</td>\n",
       "      <td>NaN</td>\n",
       "    </tr>\n",
       "    <tr>\n",
       "      <th>2742</th>\n",
       "      <td>SANTA FE</td>\n",
       "      <td>La Capital</td>\n",
       "      <td>Angel Gallardo</td>\n",
       "      <td>82063010</td>\n",
       "      <td>- 0</td>\n",
       "      <td>- 0</td>\n",
       "      <td>- 0</td>\n",
       "      <td>- 0</td>\n",
       "      <td>- 0</td>\n",
       "      <td>- 0</td>\n",
       "      <td>- 0</td>\n",
       "      <td>27</td>\n",
       "      <td>27</td>\n",
       "      <td>NaN</td>\n",
       "    </tr>\n",
       "    <tr>\n",
       "      <th>2632</th>\n",
       "      <td>SANTA FE</td>\n",
       "      <td>Castellanos</td>\n",
       "      <td>Lehmann</td>\n",
       "      <td>82021240</td>\n",
       "      <td>196</td>\n",
       "      <td>376</td>\n",
       "      <td>- 0</td>\n",
       "      <td>166</td>\n",
       "      <td>- 0</td>\n",
       "      <td>- 0</td>\n",
       "      <td>- 0</td>\n",
       "      <td>- 0</td>\n",
       "      <td>738</td>\n",
       "      <td>NaN</td>\n",
       "    </tr>\n",
       "    <tr>\n",
       "      <th>1783</th>\n",
       "      <td>LA RIOJA</td>\n",
       "      <td>Castro Barros</td>\n",
       "      <td>Anjullón</td>\n",
       "      <td>46021030</td>\n",
       "      <td>- 0</td>\n",
       "      <td>44</td>\n",
       "      <td>- 0</td>\n",
       "      <td>1</td>\n",
       "      <td>- 0</td>\n",
       "      <td>- 0</td>\n",
       "      <td>- 0</td>\n",
       "      <td>64</td>\n",
       "      <td>109</td>\n",
       "      <td>NaN</td>\n",
       "    </tr>\n",
       "  </tbody>\n",
       "</table>\n",
       "</div>"
      ],
      "text/plain": [
       "       Provincia        Partido       Localidad Link Indec ADSL CABLEMODEM   \n",
       "951      CORDOBA    Calamuchita   Villa Yacanto   14007360  - 0        - 0  \\\n",
       "1436  ENTRE RIOS     Federación       San Ramón   30028105  - 0        - 0   \n",
       "2742    SANTA FE     La Capital  Angel Gallardo   82063010  - 0        - 0   \n",
       "2632    SANTA FE    Castellanos         Lehmann   82021240  196        376   \n",
       "1783    LA RIOJA  Castro Barros        Anjullón   46021030  - 0         44   \n",
       "\n",
       "     DIAL UP FIBRA OPTICA OTROS SATELITAL WIMAX WIRELESS Total general   \n",
       "951      - 0          - 0   - 0       - 0   - 0        7             7  \\\n",
       "1436     - 0          - 0   - 0       - 0   - 0       39            39   \n",
       "2742     - 0          - 0   - 0       - 0   - 0       27            27   \n",
       "2632     - 0          166   - 0       - 0   - 0      - 0           738   \n",
       "1783     - 0            1   - 0       - 0   - 0       64           109   \n",
       "\n",
       "      Unnamed: 13  \n",
       "951           NaN  \n",
       "1436          NaN  \n",
       "2742          NaN  \n",
       "2632          NaN  \n",
       "1783          NaN  "
      ]
     },
     "execution_count": 77,
     "metadata": {},
     "output_type": "execute_result"
    }
   ],
   "source": [
    "acc_fijo_tec_loc.sample(5)"
   ]
  },
  {
   "cell_type": "code",
   "execution_count": 81,
   "id": "6b89a93d-bfec-4915-970e-a5cc6855e6a3",
   "metadata": {
    "tags": []
   },
   "outputs": [
    {
     "data": {
      "text/plain": [
       "Index(['Provincia', 'Partido', 'Localidad', 'Link Indec', 'ADSL', 'CABLEMODEM',\n",
       "       'DIAL UP', 'FIBRA OPTICA', 'OTROS', 'SATELITAL', 'WIMAX', 'WIRELESS',\n",
       "       'Total general', 'Unnamed: 13'],\n",
       "      dtype='object')"
      ]
     },
     "execution_count": 81,
     "metadata": {},
     "output_type": "execute_result"
    }
   ],
   "source": [
    "cols"
   ]
  },
  {
   "cell_type": "code",
   "execution_count": 7,
   "id": "1cf5e48f-731a-4a6b-b088-a76b99f61c7e",
   "metadata": {
    "tags": []
   },
   "outputs": [
    {
     "data": {
      "text/plain": [
       "(3142, 14)"
      ]
     },
     "execution_count": 7,
     "metadata": {},
     "output_type": "execute_result"
    }
   ],
   "source": [
    "shape"
   ]
  },
  {
   "attachments": {},
   "cell_type": "markdown",
   "id": "741d7a98-64da-41d5-a1ed-3ac263835d34",
   "metadata": {},
   "source": [
    "### analizar datos"
   ]
  },
  {
   "cell_type": "code",
   "execution_count": 20,
   "id": "bd9539c4-0306-476e-82b1-433e0e73b90a",
   "metadata": {
    "tags": []
   },
   "outputs": [
    {
     "data": {
      "text/plain": [
       "452     BUENOS AIRES\n",
       "521     BUENOS AIRES\n",
       "641     BUENOS AIRES\n",
       "2374           SALTA\n",
       "2227       RIO NEGRO\n",
       "2146       RIO NEGRO\n",
       "470     BUENOS AIRES\n",
       "1459      ENTRE RIOS\n",
       "348     BUENOS AIRES\n",
       "272     BUENOS AIRES\n",
       "Name: Provincia, dtype: object"
      ]
     },
     "execution_count": 20,
     "metadata": {},
     "output_type": "execute_result"
    }
   ],
   "source": [
    "acc_fijo_tec_loc['Provincia'].sample(10)"
   ]
  },
  {
   "cell_type": "code",
   "execution_count": 21,
   "id": "c0b0bb52",
   "metadata": {},
   "outputs": [
    {
     "data": {
      "text/plain": [
       "3094                  Graneros\n",
       "1942                 Rivadavia\n",
       "1450              Gualeguaychú\n",
       "1915             Luján de Cuyo\n",
       "194      Exaltación de la Cruz\n",
       "1297                     Unión\n",
       "185         Esteban Echeverría\n",
       "1455          Islas del Ibicuy\n",
       "1603    Doctor Manuel Belgrano\n",
       "2366    Rosario de la Frontera\n",
       "Name: Partido, dtype: object"
      ]
     },
     "execution_count": 21,
     "metadata": {},
     "output_type": "execute_result"
    }
   ],
   "source": [
    "acc_fijo_tec_loc['Partido'].sample(10)"
   ]
  },
  {
   "cell_type": "code",
   "execution_count": 22,
   "id": "989666a3",
   "metadata": {},
   "outputs": [
    {
     "data": {
      "text/plain": [
       "3129        Amaicha del Valle\n",
       "3065                   Árraga\n",
       "397                   Bayauca\n",
       "1190                   La Paz\n",
       "942             Villa Amancay\n",
       "1796                 Guanchín\n",
       "1011                   Chazón\n",
       "351              Arturo Segui\n",
       "2973    Vuelta de la Barranca\n",
       "2749          Llambi Campbell\n",
       "Name: Localidad, dtype: object"
      ]
     },
     "execution_count": 22,
     "metadata": {},
     "output_type": "execute_result"
    }
   ],
   "source": [
    "acc_fijo_tec_loc['Localidad'].sample(10)"
   ]
  },
  {
   "cell_type": "code",
   "execution_count": 23,
   "id": "aa2c3762",
   "metadata": {},
   "outputs": [
    {
     "data": {
      "text/plain": [
       "1921    50070060\n",
       "1003    14035050\n",
       "1809    46049020\n",
       "904     26063020\n",
       "1804    46028050\n",
       "94       6112010\n",
       "2810    82084300\n",
       "1629    38042040\n",
       "2401    70021020\n",
       "2510    74042010\n",
       "Name: Link Indec, dtype: object"
      ]
     },
     "execution_count": 23,
     "metadata": {},
     "output_type": "execute_result"
    }
   ],
   "source": [
    "acc_fijo_tec_loc['Link Indec'].sample(10)"
   ]
  },
  {
   "cell_type": "code",
   "execution_count": 24,
   "id": "dd3dc85f",
   "metadata": {},
   "outputs": [
    {
     "data": {
      "text/plain": [
       "1671      - 0\n",
       "3140    1.725\n",
       "2616      - 0\n",
       "2242      383\n",
       "1171      - 0\n",
       "479       205\n",
       "1711      - 0\n",
       "880       - 0\n",
       "2979      - 0\n",
       "2315      996\n",
       "Name: ADSL, dtype: object"
      ]
     },
     "execution_count": 24,
     "metadata": {},
     "output_type": "execute_result"
    }
   ],
   "source": [
    "acc_fijo_tec_loc['ADSL'].sample(10)"
   ]
  },
  {
   "cell_type": "code",
   "execution_count": 25,
   "id": "d199b76c",
   "metadata": {},
   "outputs": [
    {
     "data": {
      "text/plain": [
       "224        152\n",
       "2705       - 0\n",
       "2443       - 0\n",
       "469        - 0\n",
       "440        - 0\n",
       "1136       - 0\n",
       "381     10.751\n",
       "3007       - 0\n",
       "2956       - 0\n",
       "326         61\n",
       "Name: CABLEMODEM, dtype: object"
      ]
     },
     "execution_count": 25,
     "metadata": {},
     "output_type": "execute_result"
    }
   ],
   "source": [
    "acc_fijo_tec_loc['CABLEMODEM'].sample(10)"
   ]
  },
  {
   "cell_type": "code",
   "execution_count": 46,
   "id": "3cbfdd68",
   "metadata": {},
   "outputs": [
    {
     "data": {
      "text/plain": [
       "634     - 0\n",
       "2531    - 0\n",
       "2114      2\n",
       "53        2\n",
       "430       4\n",
       "731     - 0\n",
       "1844    - 0\n",
       "1170    - 0\n",
       "617     - 0\n",
       "2960    - 0\n",
       "Name: DIAL UP, dtype: object"
      ]
     },
     "execution_count": 46,
     "metadata": {},
     "output_type": "execute_result"
    }
   ],
   "source": [
    "acc_fijo_tec_loc['DIAL UP'].sample(10)"
   ]
  },
  {
   "cell_type": "code",
   "execution_count": 50,
   "id": "53657be9",
   "metadata": {},
   "outputs": [
    {
     "data": {
      "text/plain": [
       "2919     27\n",
       "2720    - 0\n",
       "2493    - 0\n",
       "916     - 0\n",
       "1681    - 0\n",
       "2490      3\n",
       "545     197\n",
       "2273      5\n",
       "2984    243\n",
       "594      25\n",
       "Name: FIBRA OPTICA, dtype: object"
      ]
     },
     "execution_count": 50,
     "metadata": {},
     "output_type": "execute_result"
    }
   ],
   "source": [
    "acc_fijo_tec_loc['FIBRA OPTICA'].sample(10)"
   ]
  },
  {
   "cell_type": "code",
   "execution_count": 55,
   "id": "dd2d2202",
   "metadata": {},
   "outputs": [
    {
     "data": {
      "text/plain": [
       "2162    - 0\n",
       "2377     50\n",
       "2204    - 0\n",
       "129     - 0\n",
       "2532    - 0\n",
       "2408    - 0\n",
       "770     - 0\n",
       "1515    - 0\n",
       "1535    - 0\n",
       "567      40\n",
       "Name: OTROS, dtype: object"
      ]
     },
     "execution_count": 55,
     "metadata": {},
     "output_type": "execute_result"
    }
   ],
   "source": [
    "acc_fijo_tec_loc['OTROS'].sample(10)"
   ]
  },
  {
   "cell_type": "code",
   "execution_count": 62,
   "id": "38e91b59",
   "metadata": {},
   "outputs": [
    {
     "data": {
      "text/plain": [
       "3113    - 0\n",
       "280     - 0\n",
       "2209    - 0\n",
       "2602    - 0\n",
       "2115      5\n",
       "1408    - 0\n",
       "2291    - 0\n",
       "1359      1\n",
       "1563      1\n",
       "2911    - 0\n",
       "Name: SATELITAL, dtype: object"
      ]
     },
     "execution_count": 62,
     "metadata": {},
     "output_type": "execute_result"
    }
   ],
   "source": [
    "acc_fijo_tec_loc['SATELITAL'].sample(10)"
   ]
  },
  {
   "cell_type": "code",
   "execution_count": 72,
   "id": "cda28a0d",
   "metadata": {},
   "outputs": [
    {
     "data": {
      "text/plain": [
       "649     - 0\n",
       "2163    - 0\n",
       "306     - 0\n",
       "2030    - 0\n",
       "1701    - 0\n",
       "1510    - 0\n",
       "1478    - 0\n",
       "1939    - 0\n",
       "3139    - 0\n",
       "279     - 0\n",
       "Name: WIMAX, dtype: object"
      ]
     },
     "execution_count": 72,
     "metadata": {},
     "output_type": "execute_result"
    }
   ],
   "source": [
    "acc_fijo_tec_loc['WIMAX'].sample(10)"
   ]
  },
  {
   "cell_type": "code",
   "execution_count": 73,
   "id": "32402ad4",
   "metadata": {},
   "outputs": [
    {
     "data": {
      "text/plain": [
       "940     3.079\n",
       "2100      590\n",
       "2526       64\n",
       "682       - 0\n",
       "2638    1.497\n",
       "1197       64\n",
       "1180       20\n",
       "1066       35\n",
       "2844      453\n",
       "2811       25\n",
       "Name: WIRELESS, dtype: object"
      ]
     },
     "execution_count": 73,
     "metadata": {},
     "output_type": "execute_result"
    }
   ],
   "source": [
    "acc_fijo_tec_loc['WIRELESS'].sample(10)"
   ]
  },
  {
   "cell_type": "code",
   "execution_count": 32,
   "id": "0159ebe5",
   "metadata": {},
   "outputs": [
    {
     "data": {
      "text/plain": [
       "1915       468\n",
       "1985        21\n",
       "3119        26\n",
       "2900       994\n",
       "2650         1\n",
       "422      1.059\n",
       "8       14.605\n",
       "1246    16.126\n",
       "2832        37\n",
       "2242       517\n",
       "Name: Total general, dtype: object"
      ]
     },
     "execution_count": 32,
     "metadata": {},
     "output_type": "execute_result"
    }
   ],
   "source": [
    "acc_fijo_tec_loc['Total general'].sample(10)"
   ]
  },
  {
   "cell_type": "code",
   "execution_count": 78,
   "id": "5d3bd945",
   "metadata": {},
   "outputs": [
    {
     "data": {
      "text/plain": [
       "Provincia          24\n",
       "Partido           432\n",
       "Localidad        2850\n",
       "Link Indec       2718\n",
       "ADSL              724\n",
       "CABLEMODEM        693\n",
       "DIAL UP            86\n",
       "FIBRA OPTICA      706\n",
       "OTROS             219\n",
       "SATELITAL          24\n",
       "WIMAX              12\n",
       "WIRELESS          606\n",
       "Total general    1348\n",
       "Unnamed: 13         0\n",
       "dtype: int64"
      ]
     },
     "execution_count": 78,
     "metadata": {},
     "output_type": "execute_result"
    }
   ],
   "source": [
    "acc_fijo_tec_loc.nunique(axis=0)"
   ]
  }
 ],
 "metadata": {
  "kernelspec": {
   "display_name": "Python 3 (ipykernel)",
   "language": "python",
   "name": "python3"
  },
  "language_info": {
   "codemirror_mode": {
    "name": "ipython",
    "version": 3
   },
   "file_extension": ".py",
   "mimetype": "text/x-python",
   "name": "python",
   "nbconvert_exporter": "python",
   "pygments_lexer": "ipython3",
   "version": "3.10.6"
  }
 },
 "nbformat": 4,
 "nbformat_minor": 5
}
