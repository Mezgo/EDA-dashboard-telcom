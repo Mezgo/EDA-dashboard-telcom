{
 "cells": [
  {
   "cell_type": "code",
   "execution_count": 2,
   "id": "bdb4d20a-72a9-43a3-aa0f-adce76e00db6",
   "metadata": {
    "tags": []
   },
   "outputs": [],
   "source": [
    "import pandas as pd\n",
    "import numpy as np\n",
    "import matplotlib.pylab as plt\n",
    "import seaborn as sns"
   ]
  },
  {
   "cell_type": "code",
   "execution_count": 3,
   "id": "2b7e028d-673b-4493-b59b-6d03455826a1",
   "metadata": {
    "tags": []
   },
   "outputs": [],
   "source": [
    "acc_fijo_tec_loc = pd.read_csv('data/Accesos_a_Internet_fijo_por_tecnologia_y_localidad.csv')"
   ]
  },
  {
   "cell_type": "markdown",
   "id": "31fa977f-44cd-42ce-bb45-5705c45ff26a",
   "metadata": {},
   "source": [
    "## ANALIZANDO ACCESOS A INTERNET POR  TECNOLOGIA Y LOCALIDAD"
   ]
  },
  {
   "cell_type": "code",
   "execution_count": 4,
   "id": "e2f2b97d-59bf-4418-8202-4de328731be8",
   "metadata": {
    "tags": []
   },
   "outputs": [],
   "source": [
    "cols = acc_fijo_tec_loc.columns\n",
    "shape = acc_fijo_tec_loc.shape"
   ]
  },
  {
   "cell_type": "code",
   "execution_count": 11,
   "id": "91d26172-0fcc-493b-a053-c29ea7680f2e",
   "metadata": {},
   "outputs": [
    {
     "name": "stdout",
     "output_type": "stream",
     "text": [
      "Index(['Provincia', 'Partido', 'Localidad', 'Link Indec', 'ADSL', 'CABLEMODEM',\n",
      "       'DIAL UP', 'FIBRA OPTICA', 'OTROS', 'SATELITAL', 'WIMAX', 'WIRELESS',\n",
      "       'Total general', 'Unnamed: 13'],\n",
      "      dtype='object')\n"
     ]
    }
   ],
   "source": [
    "acc_fijo_tec_loc.head()\n",
    "print(cols)"
   ]
  },
  {
   "cell_type": "code",
   "execution_count": 10,
   "id": "6b89a93d-bfec-4915-970e-a5cc6855e6a3",
   "metadata": {
    "tags": []
   },
   "outputs": [
    {
     "data": {
      "text/plain": [
       "Index(['Provincia', 'Partido', 'Localidad', 'Link Indec', 'ADSL', 'CABLEMODEM',\n",
       "       'DIAL UP', 'FIBRA OPTICA', 'OTROS', 'SATELITAL', 'WIMAX', 'WIRELESS',\n",
       "       'Total general', 'Unnamed: 13'],\n",
       "      dtype='object')"
      ]
     },
     "execution_count": 10,
     "metadata": {},
     "output_type": "execute_result"
    }
   ],
   "source": [
    "cols"
   ]
  },
  {
   "cell_type": "code",
   "execution_count": 12,
   "id": "1cf5e48f-731a-4a6b-b088-a76b99f61c7e",
   "metadata": {
    "tags": []
   },
   "outputs": [
    {
     "data": {
      "text/plain": [
       "(3142, 14)"
      ]
     },
     "execution_count": 12,
     "metadata": {},
     "output_type": "execute_result"
    }
   ],
   "source": [
    "shape"
   ]
  },
  {
   "cell_type": "markdown",
   "id": "741d7a98-64da-41d5-a1ed-3ac263835d34",
   "metadata": {},
   "source": [
    "#### analizar datos"
   ]
  },
  {
   "cell_type": "code",
   "execution_count": 18,
   "id": "bd9539c4-0306-476e-82b1-433e0e73b90a",
   "metadata": {
    "tags": []
   },
   "outputs": [
    {
     "data": {
      "text/plain": [
       "2669         Garay\n",
       "1872    Guaymallén\n",
       "1153      Río Seco\n",
       "3049     Rivadavia\n",
       "1323       Capital\n",
       "714         Zárate\n",
       "1711     Chical Co\n",
       "1962    San Martín\n",
       "760          Pomán\n",
       "2591    9 de Julio\n",
       "Name: Partido, dtype: object"
      ]
     },
     "execution_count": 18,
     "metadata": {},
     "output_type": "execute_result"
    }
   ],
   "source": [
    "# analizar datos\n",
    "acc_fijo_tec_loc['Provincia'].sample(10)\n",
    "acc_fijo_tec_loc['Partido'].sample"
   ]
  }
 ],
 "metadata": {
  "kernelspec": {
   "display_name": "Python 3 (ipykernel)",
   "language": "python",
   "name": "python3"
  },
  "language_info": {
   "codemirror_mode": {
    "name": "ipython",
    "version": 3
   },
   "file_extension": ".py",
   "mimetype": "text/x-python",
   "name": "python",
   "nbconvert_exporter": "python",
   "pygments_lexer": "ipython3",
   "version": "3.10.6"
  }
 },
 "nbformat": 4,
 "nbformat_minor": 5
}
